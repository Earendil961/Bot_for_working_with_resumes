{
  "nbformat": 4,
  "nbformat_minor": 0,
  "metadata": {
    "colab": {
      "provenance": []
    },
    "kernelspec": {
      "name": "python3",
      "display_name": "Python 3"
    },
    "language_info": {
      "name": "python"
    }
  },
  "cells": [
    {
      "cell_type": "code",
      "execution_count": null,
      "metadata": {
        "id": "ZxmzqRbmkHeq"
      },
      "outputs": [],
      "source": [
        "import pandas as pd\n",
        "from sklearn.model_selection import train_test_split\n",
        "from sklearn.ensemble import RandomForestRegressor\n",
        "from sklearn.metrics import r2_score, mean_squared_error\n",
        "from sklearn.preprocessing import StandardScaler, OneHotEncoder\n",
        "from sklearn.compose import ColumnTransformer\n",
        "import numpy as np\n",
        "from sklearn.linear_model import Ridge\n",
        "from sklearn.compose import ColumnTransformer\n",
        "from sklearn.ensemble import GradientBoostingRegressor\n",
        "\n",
        "\n",
        "df = pd.read_csv(\"rezume_full_merged.csv\", sep=';')\n",
        "\n",
        "df = df.drop(columns=['id_cv', 'grad_year_mistake_y', 'grad_year_mistake_x', 'date_mistake'])\n",
        "df = df.head(10_000)\n",
        "\n",
        "cat_cols = df.select_dtypes(include=['object']).columns\n",
        "num_cols = df.select_dtypes(include=['number']).columns.drop('response_type_const')\n",
        "\n",
        "for col in cat_cols:\n",
        "    df[col] = df[col].fillna('unknown')\n",
        "\n",
        "for col in num_cols:\n",
        "    df[col] = df[col].fillna(df[col].median())\n",
        "\n",
        "\n",
        "X = df.drop(columns=['response_type_const'])\n",
        "y = df['response_type_const']\n",
        "\n",
        "preprocessor = ColumnTransformer(\n",
        "    transformers=[\n",
        "        ('cat', OneHotEncoder(handle_unknown='ignore'), cat_cols)\n",
        "    ],\n",
        "    remainder='passthrough'\n",
        ")\n",
        "\n",
        "X_processed = preprocessor.fit_transform(X)\n",
        "\n",
        "\n",
        "scaler = StandardScaler(with_mean=False)\n",
        "X_scaled = scaler.fit_transform(X_processed)\n",
        "\n",
        "X_train, X_test, y_train, y_test = train_test_split(\n",
        "    X_scaled, y, test_size=0.2, random_state=42\n",
        ")\n",
        "\n",
        "ridge_model = Ridge(alpha=1.0, random_state=42)\n",
        "ridge_model.fit(X_train, y_train)\n",
        "y_pred_ridge = ridge_model.predict(X_test)\n",
        "\n",
        "print(\"\\nRidge Regression Results:\")\n",
        "print(f\"R2: {r2_score(y_test, y_pred_ridge):.3f}\")\n",
        "print(f\"MSE: {mean_squared_error(y_test, y_pred_ridge):.3f}\")\n",
        "\n",
        "gb_model = GradientBoostingRegressor(\n",
        "    n_estimators=100,\n",
        "    learning_rate=0.1,\n",
        "    max_depth=3,\n",
        "    random_state=42\n",
        ")\n",
        "gb_model.fit(X_train, y_train)\n",
        "y_pred_gb = gb_model.predict(X_test)\n",
        "\n",
        "print(\"Gradient Boosting Results:\")\n",
        "print(f\"R2: {r2_score(y_test, y_pred_gb):.3f}\")\n",
        "print(f\"MSE: {mean_squared_error(y_test, y_pred_gb):.3f}\")"
      ]
    }
  ]
}